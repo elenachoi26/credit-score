{
 "cells": [
  {
   "cell_type": "markdown",
   "id": "3ce46289-99f0-4c36-9642-e80d9cd5be6d",
   "metadata": {},
   "source": [
    "# Data Mining Team Project\n",
    "Credit Score"
   ]
  },
  {
   "cell_type": "markdown",
   "id": "57a15f6f-7513-4dbd-a166-e593c73b5cff",
   "metadata": {
    "jp-MarkdownHeadingCollapsed": true
   },
   "source": [
    "### Loading Data Set\n",
    "csv로부터 데이터 로드, 두 개의 sheet merge 완료"
   ]
  },
  {
   "cell_type": "code",
   "execution_count": 7,
   "id": "039e3c49-ffeb-4f13-9ff8-2b55058c3191",
   "metadata": {
    "scrolled": true
   },
   "outputs": [],
   "source": [
    "import pandas as pd\n",
    "applications = pd.read_csv('./credit_dataset/application_record.csv')\n",
    "#applications #438557 rows × 18 columns"
   ]
  },
  {
   "cell_type": "code",
   "execution_count": 8,
   "id": "649beedd-9070-4555-b973-7b5496679e12",
   "metadata": {
    "scrolled": true
   },
   "outputs": [],
   "source": [
    "credits = pd.read_csv('./credit_dataset/credit_record.csv')\n",
    "#credits "
   ]
  },
  {
   "cell_type": "code",
   "execution_count": 9,
   "id": "9d8823cb-41c9-467f-9f87-4e6307f587d5",
   "metadata": {
    "scrolled": true
   },
   "outputs": [],
   "source": [
    "df = pd.merge(applications, credits, on = 'ID', how = 'inner') #application record 수가 더 적어 inner join"
   ]
  },
  {
   "cell_type": "code",
   "execution_count": 13,
   "id": "59e04c8d-9f88-4504-b86e-4c02eb02fe73",
   "metadata": {},
   "outputs": [],
   "source": [
    "#df.info() #777715 rows × 20 columns"
   ]
  },
  {
   "cell_type": "code",
   "execution_count": 14,
   "id": "75f87e2b-69d3-4dea-acb9-db09ad11a3e0",
   "metadata": {
    "scrolled": true
   },
   "outputs": [
    {
     "data": {
      "text/plain": [
       "ID                          0\n",
       "CODE_GENDER                 0\n",
       "FLAG_OWN_CAR                0\n",
       "FLAG_OWN_REALTY             0\n",
       "CNT_CHILDREN                0\n",
       "AMT_INCOME_TOTAL            0\n",
       "NAME_INCOME_TYPE            0\n",
       "NAME_EDUCATION_TYPE         0\n",
       "NAME_FAMILY_STATUS          0\n",
       "NAME_HOUSING_TYPE           0\n",
       "DAYS_BIRTH                  0\n",
       "DAYS_EMPLOYED               0\n",
       "FLAG_MOBIL                  0\n",
       "FLAG_WORK_PHONE             0\n",
       "FLAG_PHONE                  0\n",
       "FLAG_EMAIL                  0\n",
       "OCCUPATION_TYPE        240048\n",
       "CNT_FAM_MEMBERS             0\n",
       "MONTHS_BALANCE              0\n",
       "STATUS                      0\n",
       "dtype: int64"
      ]
     },
     "execution_count": 14,
     "metadata": {},
     "output_type": "execute_result"
    }
   ],
   "source": [
    "df.isnull().sum() #occupation_type에 240048개의 Null 값 확인"
   ]
  },
  {
   "cell_type": "markdown",
   "id": "3f8c5cc8-34e1-4747-a944-c69c965a37b0",
   "metadata": {},
   "source": [
    "### Data Sampling \n",
    "- 필요없는 Data 제거 (FLAG_MOBIL)"
   ]
  },
  {
   "cell_type": "code",
   "execution_count": 15,
   "id": "5ceb5370-48fc-4b2b-9dc8-d4c1da921977",
   "metadata": {},
   "outputs": [
    {
     "name": "stdout",
     "output_type": "stream",
     "text": [
      "<class 'pandas.core.frame.DataFrame'>\n",
      "RangeIndex: 777715 entries, 0 to 777714\n",
      "Data columns (total 20 columns):\n",
      " #   Column               Non-Null Count   Dtype  \n",
      "---  ------               --------------   -----  \n",
      " 0   ID                   777715 non-null  int64  \n",
      " 1   CODE_GENDER          777715 non-null  object \n",
      " 2   FLAG_OWN_CAR         777715 non-null  object \n",
      " 3   FLAG_OWN_REALTY      777715 non-null  object \n",
      " 4   CNT_CHILDREN         777715 non-null  int64  \n",
      " 5   AMT_INCOME_TOTAL     777715 non-null  float64\n",
      " 6   NAME_INCOME_TYPE     777715 non-null  object \n",
      " 7   NAME_EDUCATION_TYPE  777715 non-null  object \n",
      " 8   NAME_FAMILY_STATUS   777715 non-null  object \n",
      " 9   NAME_HOUSING_TYPE    777715 non-null  object \n",
      " 10  DAYS_BIRTH           777715 non-null  int64  \n",
      " 11  DAYS_EMPLOYED        777715 non-null  int64  \n",
      " 12  FLAG_MOBIL           777715 non-null  int64  \n",
      " 13  FLAG_WORK_PHONE      777715 non-null  int64  \n",
      " 14  FLAG_PHONE           777715 non-null  int64  \n",
      " 15  FLAG_EMAIL           777715 non-null  int64  \n",
      " 16  OCCUPATION_TYPE      537667 non-null  object \n",
      " 17  CNT_FAM_MEMBERS      777715 non-null  float64\n",
      " 18  MONTHS_BALANCE       777715 non-null  int64  \n",
      " 19  STATUS               777715 non-null  object \n",
      "dtypes: float64(2), int64(9), object(9)\n",
      "memory usage: 118.7+ MB\n"
     ]
    }
   ],
   "source": [
    "df.info()"
   ]
  },
  {
   "cell_type": "markdown",
   "id": "bfd451c5-43f9-4b89-96e9-89c4a045e8e8",
   "metadata": {
    "jp-MarkdownHeadingCollapsed": true
   },
   "source": [
    "### Data Transform\n",
    "`DAYS_EMPLOYED` : Count backwards from current day(0). If positive, it means the person currently unemployed.   \n",
    "\n",
    "`DAYS_BIRTH`: Count backwards from current day (0), -1 means yesterday  \n",
    "\n",
    "`Account Length` 라는 column 생성\n",
    "- month balance를 바탕으로 각 ID에 대한 account_length 로 활용"
   ]
  },
  {
   "cell_type": "code",
   "execution_count": 9,
   "id": "a660f842-2076-4876-9686-5b645687fd4f",
   "metadata": {},
   "outputs": [
    {
     "data": {
      "text/plain": [
       "FLAG_WORK_PHONE\n",
       "0    597427\n",
       "1    180288\n",
       "Name: count, dtype: int64"
      ]
     },
     "execution_count": 9,
     "metadata": {},
     "output_type": "execute_result"
    }
   ],
   "source": [
    "df['AGE_YEARS']=round(-df['DAYS_BIRTH']/365.2425,0)\n",
    "\n",
    "df['FLAG_WORK_PHONE'].value_counts()\n"
   ]
  },
  {
   "cell_type": "code",
   "execution_count": 12,
   "id": "43f7a95a",
   "metadata": {},
   "outputs": [
    {
     "data": {
      "text/plain": [
       "FLAG_EMAIL\n",
       "0    706418\n",
       "1     71297\n",
       "Name: count, dtype: int64"
      ]
     },
     "execution_count": 12,
     "metadata": {},
     "output_type": "execute_result"
    }
   ],
   "source": [
    "df['FLAG_EMAIL'].value_counts()"
   ]
  },
  {
   "cell_type": "code",
   "execution_count": 180,
   "id": "e4ebd657-258a-4f79-ae3c-996f7047c567",
   "metadata": {},
   "outputs": [
    {
     "data": {
      "text/plain": [
       "count    777715.000000\n",
       "mean      57775.825016\n",
       "std      136471.735391\n",
       "min      -15713.000000\n",
       "25%       -3292.000000\n",
       "50%       -1682.000000\n",
       "75%        -431.000000\n",
       "max      365243.000000\n",
       "Name: DAYS_EMPLOYED, dtype: float64"
      ]
     },
     "execution_count": 180,
     "metadata": {},
     "output_type": "execute_result"
    }
   ],
   "source": [
    "df['DAYS_EMPLOYED'].describe() # 현재 unemployed된 사람의 값이 쓰레기값으로 나옴."
   ]
  },
  {
   "cell_type": "code",
   "execution_count": 181,
   "id": "c87cae90-cfa2-4400-980b-9489aa7dd861",
   "metadata": {},
   "outputs": [
    {
     "data": {
      "text/plain": [
       "DAYS_EMPLOYED\n",
       "0    127972\n",
       "Name: count, dtype: int64"
      ]
     },
     "execution_count": 181,
     "metadata": {},
     "output_type": "execute_result"
    }
   ],
   "source": [
    "df['DAYS_EMPLOYED'].replace(365243,0,inplace=True)\n",
    "df[df['DAYS_EMPLOYED']>=0]['DAYS_EMPLOYED'].value_counts() #더 이상 양수값 없음."
   ]
  },
  {
   "cell_type": "code",
   "execution_count": 182,
   "id": "fde095fd-e151-4b9b-96bf-e518150aceb1",
   "metadata": {},
   "outputs": [],
   "source": [
    "df['YEARS_EMPLOYED']=round(-df['DAYS_EMPLOYED']/365.2425)\n",
    "df.loc[df['YEARS_EMPLOYED']<0,'YEARS_EMPLOYED']=0 # 0 이하의 값들 0으로 처리"
   ]
  },
  {
   "cell_type": "code",
   "execution_count": 183,
   "id": "07cf67d1-ed07-467b-8e9b-7fec44b456f7",
   "metadata": {},
   "outputs": [],
   "source": [
    "# 변환완료되어 기존 열 drop\n",
    "df.drop(columns=[\"DAYS_BIRTH\",\"DAYS_EMPLOYED\"],inplace=True)"
   ]
  },
  {
   "cell_type": "code",
   "execution_count": 184,
   "id": "1feefb5d-1103-46da-8d93-2d2fd06651c2",
   "metadata": {},
   "outputs": [],
   "source": [
    "account_length_df = pd.DataFrame(df.groupby(['ID'])['MONTHS_BALANCE'].agg(min)).reset_index()\n",
    "account_length_df.rename(columns={'MONTHS_BALANCE': 'ACCOUNT_LENGTH'}, inplace=True)\n",
    "account_length_df['ACCOUNT_LENGTH'] = -account_length_df['ACCOUNT_LENGTH']"
   ]
  },
  {
   "cell_type": "code",
   "execution_count": 185,
   "id": "6d86ed74-f71c-4502-8a72-8f2b13a0346b",
   "metadata": {},
   "outputs": [
    {
     "data": {
      "text/html": [
       "<div>\n",
       "<style scoped>\n",
       "    .dataframe tbody tr th:only-of-type {\n",
       "        vertical-align: middle;\n",
       "    }\n",
       "\n",
       "    .dataframe tbody tr th {\n",
       "        vertical-align: top;\n",
       "    }\n",
       "\n",
       "    .dataframe thead th {\n",
       "        text-align: right;\n",
       "    }\n",
       "</style>\n",
       "<table border=\"1\" class=\"dataframe\">\n",
       "  <thead>\n",
       "    <tr style=\"text-align: right;\">\n",
       "      <th></th>\n",
       "      <th>ID</th>\n",
       "      <th>ACCOUNT_LENGTH</th>\n",
       "    </tr>\n",
       "  </thead>\n",
       "  <tbody>\n",
       "    <tr>\n",
       "      <th>count</th>\n",
       "      <td>3.645700e+04</td>\n",
       "      <td>36457.000000</td>\n",
       "    </tr>\n",
       "    <tr>\n",
       "      <th>mean</th>\n",
       "      <td>5.078227e+06</td>\n",
       "      <td>26.164193</td>\n",
       "    </tr>\n",
       "    <tr>\n",
       "      <th>std</th>\n",
       "      <td>4.187524e+04</td>\n",
       "      <td>16.501854</td>\n",
       "    </tr>\n",
       "    <tr>\n",
       "      <th>min</th>\n",
       "      <td>5.008804e+06</td>\n",
       "      <td>0.000000</td>\n",
       "    </tr>\n",
       "    <tr>\n",
       "      <th>25%</th>\n",
       "      <td>5.042028e+06</td>\n",
       "      <td>12.000000</td>\n",
       "    </tr>\n",
       "    <tr>\n",
       "      <th>50%</th>\n",
       "      <td>5.074614e+06</td>\n",
       "      <td>24.000000</td>\n",
       "    </tr>\n",
       "    <tr>\n",
       "      <th>75%</th>\n",
       "      <td>5.115396e+06</td>\n",
       "      <td>39.000000</td>\n",
       "    </tr>\n",
       "    <tr>\n",
       "      <th>max</th>\n",
       "      <td>5.150487e+06</td>\n",
       "      <td>60.000000</td>\n",
       "    </tr>\n",
       "  </tbody>\n",
       "</table>\n",
       "</div>"
      ],
      "text/plain": [
       "                 ID  ACCOUNT_LENGTH\n",
       "count  3.645700e+04    36457.000000\n",
       "mean   5.078227e+06       26.164193\n",
       "std    4.187524e+04       16.501854\n",
       "min    5.008804e+06        0.000000\n",
       "25%    5.042028e+06       12.000000\n",
       "50%    5.074614e+06       24.000000\n",
       "75%    5.115396e+06       39.000000\n",
       "max    5.150487e+06       60.000000"
      ]
     },
     "execution_count": 185,
     "metadata": {},
     "output_type": "execute_result"
    }
   ],
   "source": [
    "account_length_df.describe() #account length의 min = 0, max = 60"
   ]
  },
  {
   "cell_type": "code",
   "execution_count": 74,
   "id": "2904dd11-04c8-4e70-b774-cb76c5109542",
   "metadata": {},
   "outputs": [],
   "source": [
    "df = pd.merge(df, account_length_df, how='inner', on=['ID'])"
   ]
  },
  {
   "cell_type": "markdown",
   "id": "3d337b92-0b69-4620-b875-7d25190b1e13",
   "metadata": {
    "jp-MarkdownHeadingCollapsed": true
   },
   "source": [
    "### Data Scaling \n",
    "- AMT_INCOME_TOTAL\n",
    "- CNT_CHILDREN\n",
    "- YEARS_EMPLOYED\n",
    "- CNT_FAM_MEMBERS"
   ]
  },
  {
   "cell_type": "code",
   "execution_count": 186,
   "id": "b98c8d7b-268c-4010-951c-9e78911d6e36",
   "metadata": {},
   "outputs": [
    {
     "name": "stdout",
     "output_type": "stream",
     "text": [
      "count     777715.0\n",
      "mean      188535.0\n",
      "std       101622.0\n",
      "min        27000.0\n",
      "25%       121500.0\n",
      "50%       162000.0\n",
      "75%       225000.0\n",
      "max      1575000.0\n",
      "Name: AMT_INCOME_TOTAL, dtype: float64 \n",
      "\n",
      "count    777715.0\n",
      "mean          0.0\n",
      "std           1.0\n",
      "min           0.0\n",
      "25%           0.0\n",
      "50%           0.0\n",
      "75%           1.0\n",
      "max          19.0\n",
      "Name: CNT_CHILDREN, dtype: float64 \n",
      "\n",
      "count    777715.0\n",
      "mean          6.0\n",
      "std           7.0\n",
      "min           0.0\n",
      "25%           1.0\n",
      "50%           5.0\n",
      "75%           9.0\n",
      "max          43.0\n",
      "Name: YEARS_EMPLOYED, dtype: float64 \n",
      "\n",
      "count    777715.0\n",
      "mean          2.0\n",
      "std           1.0\n",
      "min           1.0\n",
      "25%           2.0\n",
      "50%           2.0\n",
      "75%           3.0\n",
      "max          20.0\n",
      "Name: CNT_FAM_MEMBERS, dtype: float64 \n",
      "\n"
     ]
    }
   ],
   "source": [
    "cols_to_scale = ['AMT_INCOME_TOTAL', 'CNT_CHILDREN','YEARS_EMPLOYED','CNT_FAM_MEMBERS']\n",
    "for col in cols_to_scale:\n",
    "    print(df[col].describe().round(),'\\n')\n",
    "# 평균 연봉 2억, 최소 3천인데? 왜케 잘살아ㅋㅋ ㅠ"
   ]
  },
  {
   "cell_type": "code",
   "execution_count": 192,
   "id": "c1962826-c88a-419c-a3b9-ef88140761f8",
   "metadata": {},
   "outputs": [
    {
     "data": {
      "image/png": "[encoded data removed]",
      "text/plain": [
       "<Figure size 1200x1000 with 4 Axes>"
      ]
     },
     "metadata": {},
     "output_type": "display_data"
    }
   ],
   "source": [
    "# 2x2 그리드에서 서브플롯 생성 -> GPT ㄱㅅ\n",
    "fig, axes = plt.subplots(nrows=2, ncols=2, figsize=(12, 10))\n",
    "\n",
    "for col, ax in zip(cols_to_scale, axes.flatten()):\n",
    "    sns.histplot(df[col], bins=20, ax=ax) \n",
    "    ax.set_title(f'Distribution of {col}')\n",
    "    ax.set_xlabel(col)\n",
    "    ax.set_ylabel('Frequency')\n",
    "\n",
    "# 레이아웃 조정\n",
    "plt.tight_layout()\n",
    "plt.show()"
   ]
  },
  {
   "cell_type": "code",
   "execution_count": 189,
   "id": "bd36d3d6-2ad3-4d24-b5f7-752154a11b24",
   "metadata": {},
   "outputs": [
    {
     "data": {
      "text/html": [
       "<div>\n",
       "<style scoped>\n",
       "    .dataframe tbody tr th:only-of-type {\n",
       "        vertical-align: middle;\n",
       "    }\n",
       "\n",
       "    .dataframe tbody tr th {\n",
       "        vertical-align: top;\n",
       "    }\n",
       "\n",
       "    .dataframe thead th {\n",
       "        text-align: right;\n",
       "    }\n",
       "</style>\n",
       "<table border=\"1\" class=\"dataframe\">\n",
       "  <thead>\n",
       "    <tr style=\"text-align: right;\">\n",
       "      <th></th>\n",
       "      <th>CNT_CHILDREN</th>\n",
       "      <th>CNT_FAM_MEMBERS</th>\n",
       "    </tr>\n",
       "  </thead>\n",
       "  <tbody>\n",
       "    <tr>\n",
       "      <th>0</th>\n",
       "      <td>0.0</td>\n",
       "      <td>0.052632</td>\n",
       "    </tr>\n",
       "    <tr>\n",
       "      <th>1</th>\n",
       "      <td>0.0</td>\n",
       "      <td>0.052632</td>\n",
       "    </tr>\n",
       "    <tr>\n",
       "      <th>2</th>\n",
       "      <td>0.0</td>\n",
       "      <td>0.052632</td>\n",
       "    </tr>\n",
       "    <tr>\n",
       "      <th>3</th>\n",
       "      <td>0.0</td>\n",
       "      <td>0.052632</td>\n",
       "    </tr>\n",
       "    <tr>\n",
       "      <th>4</th>\n",
       "      <td>0.0</td>\n",
       "      <td>0.052632</td>\n",
       "    </tr>\n",
       "    <tr>\n",
       "      <th>...</th>\n",
       "      <td>...</td>\n",
       "      <td>...</td>\n",
       "    </tr>\n",
       "    <tr>\n",
       "      <th>777710</th>\n",
       "      <td>0.0</td>\n",
       "      <td>0.000000</td>\n",
       "    </tr>\n",
       "    <tr>\n",
       "      <th>777711</th>\n",
       "      <td>0.0</td>\n",
       "      <td>0.000000</td>\n",
       "    </tr>\n",
       "    <tr>\n",
       "      <th>777712</th>\n",
       "      <td>0.0</td>\n",
       "      <td>0.000000</td>\n",
       "    </tr>\n",
       "    <tr>\n",
       "      <th>777713</th>\n",
       "      <td>0.0</td>\n",
       "      <td>0.000000</td>\n",
       "    </tr>\n",
       "    <tr>\n",
       "      <th>777714</th>\n",
       "      <td>0.0</td>\n",
       "      <td>0.000000</td>\n",
       "    </tr>\n",
       "  </tbody>\n",
       "</table>\n",
       "<p>777715 rows × 2 columns</p>\n",
       "</div>"
      ],
      "text/plain": [
       "        CNT_CHILDREN  CNT_FAM_MEMBERS\n",
       "0                0.0         0.052632\n",
       "1                0.0         0.052632\n",
       "2                0.0         0.052632\n",
       "3                0.0         0.052632\n",
       "4                0.0         0.052632\n",
       "...              ...              ...\n",
       "777710           0.0         0.000000\n",
       "777711           0.0         0.000000\n",
       "777712           0.0         0.000000\n",
       "777713           0.0         0.000000\n",
       "777714           0.0         0.000000\n",
       "\n",
       "[777715 rows x 2 columns]"
      ]
     },
     "execution_count": 189,
     "metadata": {},
     "output_type": "execute_result"
    }
   ],
   "source": [
    "from sklearn.preprocessing import PowerTransformer, MinMaxScaler\n",
    "\n",
    "power_scaler=PowerTransformer()\n",
    "minmax_scaler = MinMaxScaler()\n",
    "\n",
    "#min-max scaling\n",
    "columns_to_scale = ['CNT_CHILDREN', 'CNT_FAM_MEMBERS']\n",
    "df[columns_to_scale] = minmax_scaler.fit_transform(df[columns_to_scale])\n",
    "df[columns_to_scale]"
   ]
  },
  {
   "cell_type": "code",
   "execution_count": null,
   "id": "36c691cc-504e-4641-a621-45ff75dd9a08",
   "metadata": {
    "scrolled": true
   },
   "outputs": [],
   "source": [
    "#power scalingo\n",
    "\n",
    "columns_to_scale = ['AMT_INCOME_TOTAL','YEARS_EMPLOYED']\n",
    "df[columns_to_scale] = power_scaler.fit_transform(df[columns_to_scale])\n",
    "df[columns_to_scale]"
   ]
  },
  {
   "cell_type": "markdown",
   "id": "e38f00f3-f94d-4f5a-92e6-fcacd79a59d5",
   "metadata": {
    "jp-MarkdownHeadingCollapsed": true
   },
   "source": [
    "### STATUS preprocessing"
   ]
  },
  {
   "cell_type": "code",
   "execution_count": 32,
   "id": "a259e557-e5f4-4302-9241-4293c40073d2",
   "metadata": {},
   "outputs": [
    {
     "data": {
      "text/plain": [
       "STATUS\n",
       "X    75005\n",
       "C    18660\n",
       "Name: count, dtype: int64"
      ]
     },
     "execution_count": 32,
     "metadata": {},
     "output_type": "execute_result"
    }
   ],
   "source": [
    "# for 확인\n",
    "filtered_ids = df.groupby('ID')['STATUS'].transform(lambda x: all(y in ['C', 'X'] for y in x))\n",
    "filtered_df = df[filtered_ids]\n",
    "filtered_df['STATUS'].value_counts() #ID 개수는 4455, record 수는 93665"
   ]
  },
  {
   "cell_type": "code",
   "execution_count": 53,
   "id": "c30b14a8-773d-4e2b-ac94-e5011c730e68",
   "metadata": {
    "scrolled": true
   },
   "outputs": [
    {
     "data": {
      "text/html": [
       "<div>\n",
       "<style scoped>\n",
       "    .dataframe tbody tr th:only-of-type {\n",
       "        vertical-align: middle;\n",
       "    }\n",
       "\n",
       "    .dataframe tbody tr th {\n",
       "        vertical-align: top;\n",
       "    }\n",
       "\n",
       "    .dataframe thead th {\n",
       "        text-align: right;\n",
       "    }\n",
       "</style>\n",
       "<table border=\"1\" class=\"dataframe\">\n",
       "  <thead>\n",
       "    <tr style=\"text-align: right;\">\n",
       "      <th></th>\n",
       "      <th>ID</th>\n",
       "      <th>CODE_GENDER</th>\n",
       "      <th>FLAG_OWN_CAR</th>\n",
       "      <th>FLAG_OWN_REALTY</th>\n",
       "      <th>CNT_CHILDREN</th>\n",
       "      <th>AMT_INCOME_TOTAL</th>\n",
       "      <th>NAME_INCOME_TYPE</th>\n",
       "      <th>NAME_EDUCATION_TYPE</th>\n",
       "      <th>NAME_FAMILY_STATUS</th>\n",
       "      <th>NAME_HOUSING_TYPE</th>\n",
       "      <th>DAYS_BIRTH</th>\n",
       "      <th>DAYS_EMPLOYED</th>\n",
       "      <th>FLAG_MOBIL</th>\n",
       "      <th>FLAG_WORK_PHONE</th>\n",
       "      <th>FLAG_PHONE</th>\n",
       "      <th>FLAG_EMAIL</th>\n",
       "      <th>OCCUPATION_TYPE</th>\n",
       "      <th>CNT_FAM_MEMBERS</th>\n",
       "      <th>MONTHS_BALANCE</th>\n",
       "      <th>STATUS</th>\n",
       "    </tr>\n",
       "  </thead>\n",
       "  <tbody>\n",
       "    <tr>\n",
       "      <th>0</th>\n",
       "      <td>5008804</td>\n",
       "      <td>M</td>\n",
       "      <td>Y</td>\n",
       "      <td>Y</td>\n",
       "      <td>0</td>\n",
       "      <td>427500.0</td>\n",
       "      <td>Working</td>\n",
       "      <td>Higher education</td>\n",
       "      <td>Civil marriage</td>\n",
       "      <td>Rented apartment</td>\n",
       "      <td>-12005</td>\n",
       "      <td>-4542</td>\n",
       "      <td>1</td>\n",
       "      <td>1</td>\n",
       "      <td>0</td>\n",
       "      <td>0</td>\n",
       "      <td>inoccupation</td>\n",
       "      <td>2.0</td>\n",
       "      <td>0</td>\n",
       "      <td>C</td>\n",
       "    </tr>\n",
       "    <tr>\n",
       "      <th>1</th>\n",
       "      <td>5008804</td>\n",
       "      <td>M</td>\n",
       "      <td>Y</td>\n",
       "      <td>Y</td>\n",
       "      <td>0</td>\n",
       "      <td>427500.0</td>\n",
       "      <td>Working</td>\n",
       "      <td>Higher education</td>\n",
       "      <td>Civil marriage</td>\n",
       "      <td>Rented apartment</td>\n",
       "      <td>-12005</td>\n",
       "      <td>-4542</td>\n",
       "      <td>1</td>\n",
       "      <td>1</td>\n",
       "      <td>0</td>\n",
       "      <td>0</td>\n",
       "      <td>inoccupation</td>\n",
       "      <td>2.0</td>\n",
       "      <td>-1</td>\n",
       "      <td>C</td>\n",
       "    </tr>\n",
       "    <tr>\n",
       "      <th>2</th>\n",
       "      <td>5008804</td>\n",
       "      <td>M</td>\n",
       "      <td>Y</td>\n",
       "      <td>Y</td>\n",
       "      <td>0</td>\n",
       "      <td>427500.0</td>\n",
       "      <td>Working</td>\n",
       "      <td>Higher education</td>\n",
       "      <td>Civil marriage</td>\n",
       "      <td>Rented apartment</td>\n",
       "      <td>-12005</td>\n",
       "      <td>-4542</td>\n",
       "      <td>1</td>\n",
       "      <td>1</td>\n",
       "      <td>0</td>\n",
       "      <td>0</td>\n",
       "      <td>inoccupation</td>\n",
       "      <td>2.0</td>\n",
       "      <td>-2</td>\n",
       "      <td>C</td>\n",
       "    </tr>\n",
       "    <tr>\n",
       "      <th>3</th>\n",
       "      <td>5008804</td>\n",
       "      <td>M</td>\n",
       "      <td>Y</td>\n",
       "      <td>Y</td>\n",
       "      <td>0</td>\n",
       "      <td>427500.0</td>\n",
       "      <td>Working</td>\n",
       "      <td>Higher education</td>\n",
       "      <td>Civil marriage</td>\n",
       "      <td>Rented apartment</td>\n",
       "      <td>-12005</td>\n",
       "      <td>-4542</td>\n",
       "      <td>1</td>\n",
       "      <td>1</td>\n",
       "      <td>0</td>\n",
       "      <td>0</td>\n",
       "      <td>inoccupation</td>\n",
       "      <td>2.0</td>\n",
       "      <td>-3</td>\n",
       "      <td>C</td>\n",
       "    </tr>\n",
       "    <tr>\n",
       "      <th>4</th>\n",
       "      <td>5008804</td>\n",
       "      <td>M</td>\n",
       "      <td>Y</td>\n",
       "      <td>Y</td>\n",
       "      <td>0</td>\n",
       "      <td>427500.0</td>\n",
       "      <td>Working</td>\n",
       "      <td>Higher education</td>\n",
       "      <td>Civil marriage</td>\n",
       "      <td>Rented apartment</td>\n",
       "      <td>-12005</td>\n",
       "      <td>-4542</td>\n",
       "      <td>1</td>\n",
       "      <td>1</td>\n",
       "      <td>0</td>\n",
       "      <td>0</td>\n",
       "      <td>inoccupation</td>\n",
       "      <td>2.0</td>\n",
       "      <td>-4</td>\n",
       "      <td>C</td>\n",
       "    </tr>\n",
       "    <tr>\n",
       "      <th>...</th>\n",
       "      <td>...</td>\n",
       "      <td>...</td>\n",
       "      <td>...</td>\n",
       "      <td>...</td>\n",
       "      <td>...</td>\n",
       "      <td>...</td>\n",
       "      <td>...</td>\n",
       "      <td>...</td>\n",
       "      <td>...</td>\n",
       "      <td>...</td>\n",
       "      <td>...</td>\n",
       "      <td>...</td>\n",
       "      <td>...</td>\n",
       "      <td>...</td>\n",
       "      <td>...</td>\n",
       "      <td>...</td>\n",
       "      <td>...</td>\n",
       "      <td>...</td>\n",
       "      <td>...</td>\n",
       "      <td>...</td>\n",
       "    </tr>\n",
       "    <tr>\n",
       "      <th>777710</th>\n",
       "      <td>5150337</td>\n",
       "      <td>M</td>\n",
       "      <td>N</td>\n",
       "      <td>Y</td>\n",
       "      <td>0</td>\n",
       "      <td>112500.0</td>\n",
       "      <td>Working</td>\n",
       "      <td>Secondary / secondary special</td>\n",
       "      <td>Single / not married</td>\n",
       "      <td>Rented apartment</td>\n",
       "      <td>-9188</td>\n",
       "      <td>-1193</td>\n",
       "      <td>1</td>\n",
       "      <td>0</td>\n",
       "      <td>0</td>\n",
       "      <td>0</td>\n",
       "      <td>Laborers</td>\n",
       "      <td>1.0</td>\n",
       "      <td>-9</td>\n",
       "      <td>0</td>\n",
       "    </tr>\n",
       "    <tr>\n",
       "      <th>777711</th>\n",
       "      <td>5150337</td>\n",
       "      <td>M</td>\n",
       "      <td>N</td>\n",
       "      <td>Y</td>\n",
       "      <td>0</td>\n",
       "      <td>112500.0</td>\n",
       "      <td>Working</td>\n",
       "      <td>Secondary / secondary special</td>\n",
       "      <td>Single / not married</td>\n",
       "      <td>Rented apartment</td>\n",
       "      <td>-9188</td>\n",
       "      <td>-1193</td>\n",
       "      <td>1</td>\n",
       "      <td>0</td>\n",
       "      <td>0</td>\n",
       "      <td>0</td>\n",
       "      <td>Laborers</td>\n",
       "      <td>1.0</td>\n",
       "      <td>-10</td>\n",
       "      <td>2</td>\n",
       "    </tr>\n",
       "    <tr>\n",
       "      <th>777712</th>\n",
       "      <td>5150337</td>\n",
       "      <td>M</td>\n",
       "      <td>N</td>\n",
       "      <td>Y</td>\n",
       "      <td>0</td>\n",
       "      <td>112500.0</td>\n",
       "      <td>Working</td>\n",
       "      <td>Secondary / secondary special</td>\n",
       "      <td>Single / not married</td>\n",
       "      <td>Rented apartment</td>\n",
       "      <td>-9188</td>\n",
       "      <td>-1193</td>\n",
       "      <td>1</td>\n",
       "      <td>0</td>\n",
       "      <td>0</td>\n",
       "      <td>0</td>\n",
       "      <td>Laborers</td>\n",
       "      <td>1.0</td>\n",
       "      <td>-11</td>\n",
       "      <td>1</td>\n",
       "    </tr>\n",
       "    <tr>\n",
       "      <th>777713</th>\n",
       "      <td>5150337</td>\n",
       "      <td>M</td>\n",
       "      <td>N</td>\n",
       "      <td>Y</td>\n",
       "      <td>0</td>\n",
       "      <td>112500.0</td>\n",
       "      <td>Working</td>\n",
       "      <td>Secondary / secondary special</td>\n",
       "      <td>Single / not married</td>\n",
       "      <td>Rented apartment</td>\n",
       "      <td>-9188</td>\n",
       "      <td>-1193</td>\n",
       "      <td>1</td>\n",
       "      <td>0</td>\n",
       "      <td>0</td>\n",
       "      <td>0</td>\n",
       "      <td>Laborers</td>\n",
       "      <td>1.0</td>\n",
       "      <td>-12</td>\n",
       "      <td>0</td>\n",
       "    </tr>\n",
       "    <tr>\n",
       "      <th>777714</th>\n",
       "      <td>5150337</td>\n",
       "      <td>M</td>\n",
       "      <td>N</td>\n",
       "      <td>Y</td>\n",
       "      <td>0</td>\n",
       "      <td>112500.0</td>\n",
       "      <td>Working</td>\n",
       "      <td>Secondary / secondary special</td>\n",
       "      <td>Single / not married</td>\n",
       "      <td>Rented apartment</td>\n",
       "      <td>-9188</td>\n",
       "      <td>-1193</td>\n",
       "      <td>1</td>\n",
       "      <td>0</td>\n",
       "      <td>0</td>\n",
       "      <td>0</td>\n",
       "      <td>Laborers</td>\n",
       "      <td>1.0</td>\n",
       "      <td>-13</td>\n",
       "      <td>0</td>\n",
       "    </tr>\n",
       "  </tbody>\n",
       "</table>\n",
       "<p>684050 rows × 20 columns</p>\n",
       "</div>"
      ],
      "text/plain": [
       "             ID CODE_GENDER FLAG_OWN_CAR FLAG_OWN_REALTY  CNT_CHILDREN  \\\n",
       "0       5008804           M            Y               Y             0   \n",
       "1       5008804           M            Y               Y             0   \n",
       "2       5008804           M            Y               Y             0   \n",
       "3       5008804           M            Y               Y             0   \n",
       "4       5008804           M            Y               Y             0   \n",
       "...         ...         ...          ...             ...           ...   \n",
       "777710  5150337           M            N               Y             0   \n",
       "777711  5150337           M            N               Y             0   \n",
       "777712  5150337           M            N               Y             0   \n",
       "777713  5150337           M            N               Y             0   \n",
       "777714  5150337           M            N               Y             0   \n",
       "\n",
       "        AMT_INCOME_TOTAL NAME_INCOME_TYPE            NAME_EDUCATION_TYPE  \\\n",
       "0               427500.0          Working               Higher education   \n",
       "1               427500.0          Working               Higher education   \n",
       "2               427500.0          Working               Higher education   \n",
       "3               427500.0          Working               Higher education   \n",
       "4               427500.0          Working               Higher education   \n",
       "...                  ...              ...                            ...   \n",
       "777710          112500.0          Working  Secondary / secondary special   \n",
       "777711          112500.0          Working  Secondary / secondary special   \n",
       "777712          112500.0          Working  Secondary / secondary special   \n",
       "777713          112500.0          Working  Secondary / secondary special   \n",
       "777714          112500.0          Working  Secondary / secondary special   \n",
       "\n",
       "          NAME_FAMILY_STATUS NAME_HOUSING_TYPE  DAYS_BIRTH  DAYS_EMPLOYED  \\\n",
       "0             Civil marriage  Rented apartment      -12005          -4542   \n",
       "1             Civil marriage  Rented apartment      -12005          -4542   \n",
       "2             Civil marriage  Rented apartment      -12005          -4542   \n",
       "3             Civil marriage  Rented apartment      -12005          -4542   \n",
       "4             Civil marriage  Rented apartment      -12005          -4542   \n",
       "...                      ...               ...         ...            ...   \n",
       "777710  Single / not married  Rented apartment       -9188          -1193   \n",
       "777711  Single / not married  Rented apartment       -9188          -1193   \n",
       "777712  Single / not married  Rented apartment       -9188          -1193   \n",
       "777713  Single / not married  Rented apartment       -9188          -1193   \n",
       "777714  Single / not married  Rented apartment       -9188          -1193   \n",
       "\n",
       "        FLAG_MOBIL  FLAG_WORK_PHONE  FLAG_PHONE  FLAG_EMAIL OCCUPATION_TYPE  \\\n",
       "0                1                1           0           0    inoccupation   \n",
       "1                1                1           0           0    inoccupation   \n",
       "2                1                1           0           0    inoccupation   \n",
       "3                1                1           0           0    inoccupation   \n",
       "4                1                1           0           0    inoccupation   \n",
       "...            ...              ...         ...         ...             ...   \n",
       "777710           1                0           0           0        Laborers   \n",
       "777711           1                0           0           0        Laborers   \n",
       "777712           1                0           0           0        Laborers   \n",
       "777713           1                0           0           0        Laborers   \n",
       "777714           1                0           0           0        Laborers   \n",
       "\n",
       "        CNT_FAM_MEMBERS  MONTHS_BALANCE STATUS  \n",
       "0                   2.0               0      C  \n",
       "1                   2.0              -1      C  \n",
       "2                   2.0              -2      C  \n",
       "3                   2.0              -3      C  \n",
       "4                   2.0              -4      C  \n",
       "...                 ...             ...    ...  \n",
       "777710              1.0              -9      0  \n",
       "777711              1.0             -10      2  \n",
       "777712              1.0             -11      1  \n",
       "777713              1.0             -12      0  \n",
       "777714              1.0             -13      0  \n",
       "\n",
       "[684050 rows x 20 columns]"
      ]
     },
     "execution_count": 53,
     "metadata": {},
     "output_type": "execute_result"
    }
   ],
   "source": [
    "# STATUS가 모두 C or X인 ID의 record 삭제 -> df_filtered 생성 (약 10만개의 record 제거)\n",
    "id_to_remove = df.groupby('ID').filter(lambda x: all(y in ['C', 'X'] for y in x['STATUS']))['ID'].unique()\n",
    "df_filtered = df[~df['ID'].isin(id_to_remove)]\n",
    "df_filtered"
   ]
  },
  {
   "cell_type": "code",
   "execution_count": 100,
   "id": "5584a94e-cf07-4641-9122-a85a870831c2",
   "metadata": {
    "scrolled": true
   },
   "outputs": [
    {
     "data": {
      "image/png": "[encoded data removed]",
      "text/plain": [
       "<Figure size 640x480 with 1 Axes>"
      ]
     },
     "metadata": {},
     "output_type": "display_data"
    }
   ],
   "source": [
    "import matplotlib.pyplot as plt\n",
    "\n",
    "# 각 status별 개수. C와 1이 너무 압도적인데? 이정도면 나머지가 outlier 취급될듯.\n",
    "t = df_filtered['STATUS'].unique()\n",
    "s = df_filtered['STATUS'].value_counts()\n",
    "_ = plt.bar(t, s, align= 'edge') # align : bar와 눈금 간의 정렬 조정. edge 등등.."
   ]
  },
  {
   "cell_type": "markdown",
   "id": "0b2148c9-638d-47ce-bde5-db035827dca5",
   "metadata": {
    "jp-MarkdownHeadingCollapsed": true
   },
   "source": [
    "### 각 column별 unique 값 확인\n",
    "\n",
    "그냥 확인하려고...\n",
    "- 중간에 occupation NaN-> inoccupation 으로 변환해서 결측치 제거 "
   ]
  },
  {
   "cell_type": "code",
   "execution_count": 15,
   "id": "9c3663bf-93bf-4bb1-8c97-02e75bf8d5b3",
   "metadata": {},
   "outputs": [
    {
     "name": "stdout",
     "output_type": "stream",
     "text": [
      "NAME_INCOME_TYPE : ['Working' 'Commercial associate' 'Pensioner' 'State servant' 'Student'] \n",
      "\n",
      "NAME_EDUCATION_TYPE : ['Higher education' 'Secondary / secondary special' 'Incomplete higher'\n",
      " 'Lower secondary' 'Academic degree'] \n",
      "\n",
      "NAME_FAMILY_STATUS : ['Civil marriage' 'Married' 'Single / not married' 'Separated' 'Widow'] \n",
      "\n",
      "NAME_HOUSING_TYPE : ['Rented apartment' 'House / apartment' 'Municipal apartment'\n",
      " 'With parents' 'Co-op apartment' 'Office apartment'] \n",
      "\n"
     ]
    }
   ],
   "source": [
    "def category_check(type):\n",
    "    print(type,':', applications[type].unique(),'\\n')\n",
    "\n",
    "for i in df.columns[6:10]:\n",
    "    category_check(i)"
   ]
  },
  {
   "cell_type": "code",
   "execution_count": 16,
   "id": "dff081e2-23c6-4fa0-bb72-0c1e7a75cf7b",
   "metadata": {
    "scrolled": true
   },
   "outputs": [
    {
     "name": "stdout",
     "output_type": "stream",
     "text": [
      "FLAG_OWN_CAR:  ['Y' 'N'] \n",
      "\n",
      "FLAG_OWN_REALTY:  ['Y' 'N'] \n",
      "\n",
      "FLAG_MOBIL : FLAG_MOBIL\n",
      "1    777715\n",
      "Name: count, dtype: int64 \n",
      "\n",
      "FLAG_WORK_PHONE : FLAG_WORK_PHONE\n",
      "0    597427\n",
      "1    180288\n",
      "Name: count, dtype: int64 \n",
      "\n",
      "FLAG_PHONE : FLAG_PHONE\n",
      "0    543650\n",
      "1    234065\n",
      "Name: count, dtype: int64 \n",
      "\n",
      "FLAG_EMAIL : FLAG_EMAIL\n",
      "0    706418\n",
      "1     71297\n",
      "Name: count, dtype: int64 \n",
      "\n",
      "OCCUPATION_TYPE : OCCUPATION_TYPE\n",
      "NaN                      240048\n",
      "Laborers                 131572\n",
      "Core staff                77112\n",
      "Sales staff               70362\n",
      "Managers                  67738\n",
      "Drivers                   47678\n",
      "High skill tech staff     31768\n",
      "Accountants               27223\n",
      "Medicine staff            26691\n",
      "Cooking staff             13416\n",
      "Security staff            12400\n",
      "Cleaning staff            11399\n",
      "Private service staff      6714\n",
      "Low-skill Laborers         3623\n",
      "Secretaries                3149\n",
      "Waiters/barmen staff       2557\n",
      "HR staff                   1686\n",
      "IT staff                   1319\n",
      "Realty agents              1260\n",
      "Name: count, dtype: int64 \n",
      "\n"
     ]
    }
   ],
   "source": [
    "#flag category 중 object 확인 -> one-hot encoding으로 바꿀까?\n",
    "print('FLAG_OWN_CAR: ', df['FLAG_OWN_CAR'].unique(),'\\n')\n",
    "print('FLAG_OWN_REALTY: ', df['FLAG_OWN_REALTY'].unique(),'\\n')\n",
    "\n",
    "def count_check(type):\n",
    "    print(type,':', df[type].value_counts(dropna=False),'\\n')\n",
    "\n",
    "for i in df.columns[12:17]:\n",
    "     count_check(i)"
   ]
  },
  {
   "cell_type": "code",
   "execution_count": 19,
   "id": "adf601d9-1ff9-492c-be9f-1777d22e943b",
   "metadata": {},
   "outputs": [
    {
     "data": {
      "text/plain": [
       "OCCUPATION_TYPE\n",
       "inoccupation             240048\n",
       "Laborers                 131572\n",
       "Core staff                77112\n",
       "Sales staff               70362\n",
       "Managers                  67738\n",
       "Drivers                   47678\n",
       "High skill tech staff     31768\n",
       "Accountants               27223\n",
       "Medicine staff            26691\n",
       "Cooking staff             13416\n",
       "Security staff            12400\n",
       "Cleaning staff            11399\n",
       "Private service staff      6714\n",
       "Low-skill Laborers         3623\n",
       "Secretaries                3149\n",
       "Waiters/barmen staff       2557\n",
       "HR staff                   1686\n",
       "IT staff                   1319\n",
       "Realty agents              1260\n",
       "Name: count, dtype: int64"
      ]
     },
     "execution_count": 19,
     "metadata": {},
     "output_type": "execute_result"
    }
   ],
   "source": [
    "#occupation에 NaN이 무직을 의미하는 듯하다. 다른 무직 관련 카테고리가 없다. NaN으로 남겨두면 안될 것 같으니 채워주자.\n",
    "#df['OCCUPATION_TYPE'].fillna('inoccupation', inplace=True)\n",
    "df['OCCUPATION_TYPE'].value_counts(dropna=False)"
   ]
  },
  {
   "cell_type": "code",
   "execution_count": 20,
   "id": "e95f727b-12ca-4efe-8032-ba997fdc3619",
   "metadata": {},
   "outputs": [
    {
     "data": {
      "text/plain": [
       "array([  0,  -1,  -2,  -3,  -4,  -5,  -6,  -7,  -8,  -9, -10, -11, -12,\n",
       "       -13, -14, -15, -16, -17, -18, -19, -20, -21, -22, -23, -24, -25,\n",
       "       -26, -27, -28, -29, -30, -31, -32, -33, -34, -35, -36, -37, -38,\n",
       "       -39, -40, -41, -42, -43, -44, -45, -46, -47, -48, -49, -50, -51,\n",
       "       -52, -53, -54, -55, -56, -57, -58, -59, -60])"
      ]
     },
     "execution_count": 20,
     "metadata": {},
     "output_type": "execute_result"
    }
   ],
   "source": [
    "df['MONTHS_BALANCE'].unique() #0~ 60 "
   ]
  },
  {
   "cell_type": "code",
   "execution_count": 77,
   "id": "57caf4c0-fb6e-413c-83ee-92bf6f4d323f",
   "metadata": {},
   "outputs": [
    {
     "name": "stdout",
     "output_type": "stream",
     "text": [
      "Numerical Columns:\n",
      "Index(['ID', 'CNT_CHILDREN', 'AMT_INCOME_TOTAL', 'DAYS_BIRTH', 'DAYS_EMPLOYED',\n",
      "       'FLAG_MOBIL', 'FLAG_WORK_PHONE', 'FLAG_PHONE', 'FLAG_EMAIL',\n",
      "       'CNT_FAM_MEMBERS', 'MONTHS_BALANCE', 'ACCOUNT_LENGTH'],\n",
      "      dtype='object')\n",
      "\n",
      "Categorical Columns:\n",
      "Index(['CODE_GENDER', 'FLAG_OWN_CAR', 'FLAG_OWN_REALTY', 'NAME_INCOME_TYPE',\n",
      "       'NAME_EDUCATION_TYPE', 'NAME_FAMILY_STATUS', 'NAME_HOUSING_TYPE',\n",
      "       'OCCUPATION_TYPE', 'STATUS'],\n",
      "      dtype='object')\n"
     ]
    }
   ],
   "source": [
    "# Get numerical column names\n",
    "num_cols = df.select_dtypes(include=['int64', 'float64']).columns\n",
    "print(\"Numerical Columns:\")\n",
    "print(num_cols)\n",
    "\n",
    "# Get categorical column names\n",
    "cat_cols = df.select_dtypes(include=['object']).columns\n",
    "print(\"\\nCategorical Columns:\")\n",
    "print(cat_cols)"
   ]
  },
  {
   "cell_type": "code",
   "execution_count": 76,
   "id": "dbdb4d55-a2f3-4913-9599-1551214c8d03",
   "metadata": {},
   "outputs": [
    {
     "data": {
      "text/plain": [
       "STATUS\n",
       "C    329536\n",
       "0    290654\n",
       "X    145950\n",
       "1      8747\n",
       "5      1527\n",
       "2       801\n",
       "3       286\n",
       "4       214\n",
       "Name: count, dtype: int64"
      ]
     },
     "execution_count": 76,
     "metadata": {},
     "output_type": "execute_result"
    }
   ],
   "source": [
    "df['STATUS'].value_counts() #대출 상환이 가능한지의 여부를 따지는거면 적어"
   ]
  },
  {
   "cell_type": "markdown",
   "id": "c2ff30bc-ac66-4f34-b5a9-246a742ac876",
   "metadata": {},
   "source": [
    "# 추가 논의사항\n",
    "- encoding 형태 어떻게 할건지?\n",
    "- status 어떻게 할건지?"
   ]
  },
  {
   "cell_type": "markdown",
   "id": "32ad7e30-0328-456e-852a-5fe13171e43f",
   "metadata": {
    "jp-MarkdownHeadingCollapsed": true
   },
   "source": [
    "# 스근하게 모델 돌려보기...가 아니라 타겟 value 없어서 미루겠슴니다.\n"
   ]
  },
  {
   "cell_type": "markdown",
   "id": "1855431a-7712-4542-94a3-94c84e893302",
   "metadata": {},
   "source": [
    "### Logistic Regression"
   ]
  },
  {
   "cell_type": "code",
   "execution_count": null,
   "id": "1e2d56eb-630e-4b69-ae72-6b38edf29f5a",
   "metadata": {},
   "outputs": [],
   "source": [
    "#EDA (1) \n",
    "#데이터셋을 통한 상관관계 분석으로 인사이트\n",
    "#경영직무에 필요한.. \n",
    "#시각화나 measure, clustering \n",
    "#책임: 특이한 인사이트, 납득할 만한 인사이트, 시각화\n",
    "\n",
    "#예측 (1)\n",
    "#전처리 + 잘 맞는 방법론\n",
    "#돌리는건.. 전처리를 얼마나 잘했냐??\n",
    "\n",
    "#성능이 보장된. ->모델에 따른 성능 / 전처리나 target feature에 따른 성능\n",
    "\n",
    "#feature 영향 어떻게 미치는지 찾기 어렵지 않을까? \n",
    "#개인에게 어차피 안알려주는 부분이니까."
   ]
  }
 ],
 "metadata": {
  "kernelspec": {
   "display_name": "Python 3 (ipykernel)",
   "language": "python",
   "name": "python3"
  },
  "language_info": {
   "codemirror_mode": {
    "name": "ipython",
    "version": 3
   },
   "file_extension": ".py",
   "mimetype": "text/x-python",
   "name": "python",
   "nbconvert_exporter": "python",
   "pygments_lexer": "ipython3",
   "version": "3.11.9"
  }
 },
 "nbformat": 4,
 "nbformat_minor": 5
}
